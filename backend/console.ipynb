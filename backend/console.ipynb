{
 "cells": [
  {
   "cell_type": "code",
   "execution_count": null,
   "metadata": {},
   "outputs": [],
   "source": [
    "%run console.py\n"
   ]
  },
  {
   "cell_type": "code",
   "execution_count": null,
   "metadata": {},
   "outputs": [],
   "source": [
    "from api.src.clients.fmp_client import FMPClient\n",
    "from api.src.utils.seed_adapters.run_seed_adapters import seed_sp500_data\n",
    "from config import Config, DevelopmentConfig, TestingConfig, ProductionConfig \n",
    "import psycopg2\n",
    "\n",
    "client = FMPClient()"
   ]
  },
  {
   "cell_type": "code",
   "execution_count": 5,
   "metadata": {},
   "outputs": [],
   "source": [
    "import psycopg2\n",
    "TEST_DB_HOST='localhost'\n",
    "TEST_DB_NAME='public_companies_test_db' \n",
    "TEST_DB_USER='kielay'\n",
    "TEST_DB_PASSWORD='Graci3dog88*'\n",
    "\n",
    "conn = psycopg2.connect(\n",
    "    dbname=TEST_DB_NAME,\n",
    "    user=TEST_DB_USER,\n",
    "    password=TEST_DB_PASSWORD,\n",
    "    host=TEST_DB_HOST\n",
    ")\n",
    "\n",
    "cur = conn.cursor()"
   ]
  },
  {
   "cell_type": "code",
   "execution_count": 2,
   "metadata": {},
   "outputs": [
    {
     "ename": "OperationalError",
     "evalue": "connection to server on socket \"/tmp/.s.PGSQL.5432\" failed: FATAL:  database \"kielay\" does not exist\n",
     "output_type": "error",
     "traceback": [
      "\u001b[0;31m---------------------------------------------------------------------------\u001b[0m",
      "\u001b[0;31mOperationalError\u001b[0m                          Traceback (most recent call last)",
      "Cell \u001b[0;32mIn[2], line 3\u001b[0m\n\u001b[1;32m      1\u001b[0m \u001b[38;5;28;01mfrom\u001b[39;00m \u001b[38;5;21;01mflask\u001b[39;00m \u001b[38;5;28;01mimport\u001b[39;00m current_app\n\u001b[1;32m      2\u001b[0m \u001b[38;5;28;01mfrom\u001b[39;00m \u001b[38;5;21;01mflask\u001b[39;00m \u001b[38;5;28;01mimport\u001b[39;00m g\n\u001b[0;32m----> 3\u001b[0m \u001b[38;5;28;01mfrom\u001b[39;00m \u001b[38;5;21;01mapi\u001b[39;00m\u001b[38;5;21;01m.\u001b[39;00m\u001b[38;5;21;01msrc\u001b[39;00m\u001b[38;5;21;01m.\u001b[39;00m\u001b[38;5;21;01mdb\u001b[39;00m \u001b[38;5;28;01mimport\u001b[39;00m get_db, close_db, save, build_from_record, build_from_records, find, find_all, values, keys, drop_tables, drop_records, find_by_id, find_by_name, find_or_create_by_name, find_or_build_by_name\n\u001b[1;32m      4\u001b[0m \u001b[38;5;66;03m# from backend.secrets.settings import DB_USER, DB_NAME, DB_HOST, DB_PASSWORD, DEBUG, TESTING #TODO: check config imports\u001b[39;00m\n\u001b[1;32m      5\u001b[0m \u001b[38;5;28;01mfrom\u001b[39;00m \u001b[38;5;21;01mconfig\u001b[39;00m \u001b[38;5;28;01mimport\u001b[39;00m Config, DevelopmentConfig, TestingConfig, ProductionConfig\n",
      "File \u001b[0;32m~/Developer/projects/company-data-etl/backend/api/src/__init__.py:4\u001b[0m\n\u001b[1;32m      1\u001b[0m \u001b[38;5;28;01mfrom\u001b[39;00m \u001b[38;5;21;01mflask\u001b[39;00m \u001b[38;5;28;01mimport\u001b[39;00m Flask, jsonify, request\n\u001b[1;32m      2\u001b[0m \u001b[38;5;66;03m# from backend.api.src.utils.temp.data_adapters import load_json, CompanyAdapter\u001b[39;00m\n\u001b[1;32m      3\u001b[0m \u001b[38;5;66;03m# from src.clients.fmp_client import FMPClient\u001b[39;00m\n\u001b[0;32m----> 4\u001b[0m \u001b[38;5;28;01mimport\u001b[39;00m \u001b[38;5;21;01mapi\u001b[39;00m\u001b[38;5;21;01m.\u001b[39;00m\u001b[38;5;21;01msrc\u001b[39;00m\u001b[38;5;21;01m.\u001b[39;00m\u001b[38;5;21;01mdb\u001b[39;00m \u001b[38;5;28;01mas\u001b[39;00m \u001b[38;5;21;01mdb\u001b[39;00m\n\u001b[1;32m      6\u001b[0m \u001b[38;5;28;01mdef\u001b[39;00m \u001b[38;5;21mcreate_app\u001b[39m(config_class):\n\u001b[1;32m      7\u001b[0m     app \u001b[38;5;241m=\u001b[39m Flask(\u001b[38;5;18m__name__\u001b[39m)\n",
      "File \u001b[0;32m~/Developer/projects/company-data-etl/backend/api/src/db/__init__.py:1\u001b[0m\n\u001b[0;32m----> 1\u001b[0m \u001b[38;5;28;01mfrom\u001b[39;00m \u001b[38;5;21;01m.\u001b[39;00m\u001b[38;5;21;01mdb\u001b[39;00m \u001b[38;5;28;01mimport\u001b[39;00m (\n\u001b[1;32m      2\u001b[0m     get_db, close_db, save, build_from_record, build_from_records,\n\u001b[1;32m      3\u001b[0m     find, find_all, values, keys, drop_tables, drop_records,\n\u001b[1;32m      4\u001b[0m     find_by_id, find_by_name, find_or_create_by_name, find_or_build_by_name\n\u001b[1;32m      5\u001b[0m )\n",
      "File \u001b[0;32m~/Developer/projects/company-data-etl/backend/api/src/db/db.py:17\u001b[0m\n\u001b[1;32m      8\u001b[0m \u001b[38;5;28;01mfrom\u001b[39;00m \u001b[38;5;21;01mconfig\u001b[39;00m \u001b[38;5;28;01mimport\u001b[39;00m current_config\n\u001b[1;32m     10\u001b[0m dsn \u001b[38;5;241m=\u001b[39m make_dsn(\n\u001b[1;32m     11\u001b[0m     host\u001b[38;5;241m=\u001b[39mcurrent_config\u001b[38;5;241m.\u001b[39mDB_HOST, \n\u001b[1;32m     12\u001b[0m     dbname\u001b[38;5;241m=\u001b[39mcurrent_config\u001b[38;5;241m.\u001b[39mDB_NAME,\n\u001b[1;32m     13\u001b[0m     user\u001b[38;5;241m=\u001b[39mcurrent_config\u001b[38;5;241m.\u001b[39mDB_USER,\n\u001b[1;32m     14\u001b[0m     password\u001b[38;5;241m=\u001b[39mcurrent_config\u001b[38;5;241m.\u001b[39mDB_PASSWORD\n\u001b[1;32m     15\u001b[0m )\n\u001b[0;32m---> 17\u001b[0m conn \u001b[38;5;241m=\u001b[39m \u001b[43mconnect\u001b[49m\u001b[43m(\u001b[49m\u001b[43mdsn\u001b[49m\u001b[43m)\u001b[49m\n\u001b[1;32m     20\u001b[0m \u001b[38;5;66;03m#TODO: build main db connection\u001b[39;00m\n\u001b[1;32m     21\u001b[0m \n\u001b[1;32m     22\u001b[0m \u001b[38;5;66;03m# conn = psycopg2.connect(\u001b[39;00m\n\u001b[0;32m   (...)\u001b[0m\n\u001b[1;32m     38\u001b[0m \n\u001b[1;32m     39\u001b[0m \u001b[38;5;66;03m# test_cursor = test_conn.cursor()\u001b[39;00m\n\u001b[1;32m     41\u001b[0m \u001b[38;5;28;01mdef\u001b[39;00m \u001b[38;5;21mget_db\u001b[39m():\n",
      "File \u001b[0;32m/opt/homebrew/Caskroom/miniconda/base/envs/forge/lib/python3.11/site-packages/psycopg2/__init__.py:122\u001b[0m, in \u001b[0;36mconnect\u001b[0;34m(dsn, connection_factory, cursor_factory, **kwargs)\u001b[0m\n\u001b[1;32m    119\u001b[0m     kwasync[\u001b[38;5;124m'\u001b[39m\u001b[38;5;124masync_\u001b[39m\u001b[38;5;124m'\u001b[39m] \u001b[38;5;241m=\u001b[39m kwargs\u001b[38;5;241m.\u001b[39mpop(\u001b[38;5;124m'\u001b[39m\u001b[38;5;124masync_\u001b[39m\u001b[38;5;124m'\u001b[39m)\n\u001b[1;32m    121\u001b[0m dsn \u001b[38;5;241m=\u001b[39m _ext\u001b[38;5;241m.\u001b[39mmake_dsn(dsn, \u001b[38;5;241m*\u001b[39m\u001b[38;5;241m*\u001b[39mkwargs)\n\u001b[0;32m--> 122\u001b[0m conn \u001b[38;5;241m=\u001b[39m \u001b[43m_connect\u001b[49m\u001b[43m(\u001b[49m\u001b[43mdsn\u001b[49m\u001b[43m,\u001b[49m\u001b[43m \u001b[49m\u001b[43mconnection_factory\u001b[49m\u001b[38;5;241;43m=\u001b[39;49m\u001b[43mconnection_factory\u001b[49m\u001b[43m,\u001b[49m\u001b[43m \u001b[49m\u001b[38;5;241;43m*\u001b[39;49m\u001b[38;5;241;43m*\u001b[39;49m\u001b[43mkwasync\u001b[49m\u001b[43m)\u001b[49m\n\u001b[1;32m    123\u001b[0m \u001b[38;5;28;01mif\u001b[39;00m cursor_factory \u001b[38;5;129;01mis\u001b[39;00m \u001b[38;5;129;01mnot\u001b[39;00m \u001b[38;5;28;01mNone\u001b[39;00m:\n\u001b[1;32m    124\u001b[0m     conn\u001b[38;5;241m.\u001b[39mcursor_factory \u001b[38;5;241m=\u001b[39m cursor_factory\n",
      "\u001b[0;31mOperationalError\u001b[0m: connection to server on socket \"/tmp/.s.PGSQL.5432\" failed: FATAL:  database \"kielay\" does not exist\n"
     ]
    }
   ],
   "source": [
    "test_top_peers"
   ]
  },
  {
   "cell_type": "code",
   "execution_count": null,
   "metadata": {},
   "outputs": [],
   "source": []
  }
 ],
 "metadata": {
  "kernelspec": {
   "display_name": "venv",
   "language": "python",
   "name": "python3"
  },
  "language_info": {
   "codemirror_mode": {
    "name": "ipython",
    "version": 3
   },
   "file_extension": ".py",
   "mimetype": "text/x-python",
   "name": "python",
   "nbconvert_exporter": "python",
   "pygments_lexer": "ipython3",
   "version": "3.11.6"
  }
 },
 "nbformat": 4,
 "nbformat_minor": 2
}
